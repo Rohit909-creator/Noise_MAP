{
 "cells": [
  {
   "cell_type": "code",
   "execution_count": 1,
   "metadata": {},
   "outputs": [
    {
     "name": "stderr",
     "output_type": "stream",
     "text": [
      "ERROR: Could not find a version that satisfies the requirement noise_modelling_sdk (from versions: none)\n",
      "ERROR: No matching distribution found for noise_modelling_sdk\n",
      "\n",
      "[notice] A new release of pip is available: 24.0 -> 24.3.1\n",
      "[notice] To update, run: python.exe -m pip install --upgrade pip\n"
     ]
    }
   ],
   "source": [
    "!pip install noise_modelling_sdk"
   ]
  },
  {
   "cell_type": "code",
   "execution_count": null,
   "metadata": {},
   "outputs": [],
   "source": [
    "import noise_modelling_sdk\n",
    "\n",
    "# Import buildings\n",
    "buildings_table = noise_modelling_sdk.import_osm_data(osm_file_path)\n",
    "\n",
    "# Import MATSim traffic data\n",
    "matsim_roads_table = noise_modelling_sdk.import_matsim_traffic_data(matsim_folder_path, network_csv_file_path)\n",
    "\n",
    "# Import MATSim activities\n",
    "activities_table = noise_modelling_sdk.import_matsim_activities(matsim_facilities_file_path)\n",
    "\n",
    "# Assign a receiver to each activity\n",
    "receivers_table = noise_modelling_sdk.assign_receivers_to_activities(buildings_table, activities_table)\n",
    "\n",
    "# Calculate noise attenuation matrix\n",
    "noise_attenuation_matrix = noise_modelling_sdk.calculate_noise_attenuation_matrix(matsim_roads_table, receivers_table)"
   ]
  }
 ],
 "metadata": {
  "kernelspec": {
   "display_name": "env",
   "language": "python",
   "name": "python3"
  },
  "language_info": {
   "codemirror_mode": {
    "name": "ipython",
    "version": 3
   },
   "file_extension": ".py",
   "mimetype": "text/x-python",
   "name": "python",
   "nbconvert_exporter": "python",
   "pygments_lexer": "ipython3",
   "version": "3.11.9"
  }
 },
 "nbformat": 4,
 "nbformat_minor": 2
}
