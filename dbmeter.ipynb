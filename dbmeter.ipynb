{
 "cells": [
  {
   "cell_type": "code",
   "execution_count": 1,
   "metadata": {},
   "outputs": [
    {
     "name": "stdout",
     "output_type": "stream",
     "text": [
      "Collecting pydub\n",
      "  Using cached pydub-0.25.1-py2.py3-none-any.whl.metadata (1.4 kB)\n",
      "Using cached pydub-0.25.1-py2.py3-none-any.whl (32 kB)\n",
      "Installing collected packages: pydub\n",
      "Successfully installed pydub-0.25.1\n"
     ]
    },
    {
     "name": "stderr",
     "output_type": "stream",
     "text": [
      "\n",
      "[notice] A new release of pip is available: 24.0 -> 24.3.1\n",
      "[notice] To update, run: python.exe -m pip install --upgrade pip\n"
     ]
    }
   ],
   "source": [
    "!pip install pydub"
   ]
  },
  {
   "cell_type": "code",
   "execution_count": 2,
   "metadata": {},
   "outputs": [
    {
     "name": "stderr",
     "output_type": "stream",
     "text": [
      "e:\\Noise_MAP\\env\\Lib\\site-packages\\pydub\\utils.py:170: RuntimeWarning: Couldn't find ffmpeg or avconv - defaulting to ffmpeg, but may not work\n",
      "  warn(\"Couldn't find ffmpeg or avconv - defaulting to ffmpeg, but may not work\", RuntimeWarning)\n"
     ]
    },
    {
     "name": "stdout",
     "output_type": "stream",
     "text": [
      "Error: Error loading audio file: [Errno 2] No such file or directory: ''\n"
     ]
    }
   ],
   "source": [
    "from pydub import AudioSegment\n",
    "import numpy as np\n",
    "\n",
    "class AudioNoiseAnalyzer:\n",
    "    def __init__(self, audio_file_path):\n",
    "        self.audio_file_path = audio_file_path\n",
    "        self.audio = None\n",
    "        self.db = None\n",
    "        self.noise_rating = None\n",
    "    \n",
    "    def load_audio(self):\n",
    "        \"\"\"Loads the audio file into memory.\"\"\"\n",
    "        try:\n",
    "            self.audio = AudioSegment.from_file(self.audio_file_path)\n",
    "            print(f\"Audio file '{self.audio_file_path}' loaded successfully.\")\n",
    "        except Exception as e:\n",
    "            raise ValueError(f\"Error loading audio file: {e}\")\n",
    "    \n",
    "    def calculate_loudness(self):\n",
    "        \"\"\"Calculates the loudness in decibels (dB).\"\"\"\n",
    "        if self.audio is None:\n",
    "            raise ValueError(\"Audio file is not loaded. Call 'load_audio' first.\")\n",
    "        \n",
    "        # Calculate RMS\n",
    "        samples = np.array(self.audio.get_array_of_samples())\n",
    "        rms = np.sqrt(np.mean(samples**2))\n",
    "        \n",
    "        # Convert RMS to dB\n",
    "        self.db = 20 * np.log10(rms / (2 ** (self.audio.sample_width * 8 - 1)))\n",
    "        return self.db\n",
    "    \n",
    "    def calculate_noise_rating(self, min_db=20, max_db=120):\n",
    "        \"\"\"Rates the noise on a scale of 1 to 10 based on dB.\"\"\"\n",
    "        if self.db is None:\n",
    "            raise ValueError(\"Loudness in dB is not calculated. Call 'calculate_loudness' first.\")\n",
    "        \n",
    "        # Normalize and scale the dB value to a range of 1 to 10\n",
    "        normalized_db = np.clip((self.db - min_db) / (max_db - min_db), 0, 1)\n",
    "        self.noise_rating = int(normalized_db * 10)\n",
    "        return self.noise_rating\n",
    "\n",
    "    def analyze(self):\n",
    "        \"\"\"Complete analysis: loads audio, calculates loudness, and rates noise.\"\"\"\n",
    "        self.load_audio()\n",
    "        loudness = self.calculate_loudness()\n",
    "        rating = self.calculate_noise_rating()\n",
    "        return loudness, rating\n",
    "\n",
    "\n",
    "# Main function to demonstrate the class\n",
    "if __name__ == \"__main__\":\n",
    "    audio_file = input(\"Enter the path to the audio file: \")\n",
    "    try:\n",
    "        analyzer = AudioNoiseAnalyzer(audio_file)\n",
    "        loudness, rating = analyzer.analyze()\n",
    "        print(f\"Loudness: {loudness:.2f} dB\")\n",
    "        print(f\"Noise Rating (1-10): {rating}\")\n",
    "    except Exception as e:\n",
    "        print(f\"Error: {e}\")\n"
   ]
  }
 ],
 "metadata": {
  "kernelspec": {
   "display_name": "env",
   "language": "python",
   "name": "python3"
  },
  "language_info": {
   "codemirror_mode": {
    "name": "ipython",
    "version": 3
   },
   "file_extension": ".py",
   "mimetype": "text/x-python",
   "name": "python",
   "nbconvert_exporter": "python",
   "pygments_lexer": "ipython3",
   "version": "3.11.9"
  }
 },
 "nbformat": 4,
 "nbformat_minor": 2
}
