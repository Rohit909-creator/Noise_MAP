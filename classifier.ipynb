{
 "cells": [
  {
   "cell_type": "code",
   "execution_count": 16,
   "metadata": {},
   "outputs": [],
   "source": [
    "import os\n",
    "import numpy as np\n",
    "import pandas as pd\n",
    "import librosa\n",
    "import librosa.display\n",
    "import matplotlib.pyplot as plt\n",
    "import tensorflow as tf\n",
    "from sklearn.model_selection import train_test_split\n"
   ]
  },
  {
   "cell_type": "code",
   "execution_count": 19,
   "metadata": {},
   "outputs": [],
   "source": [
    "\n",
    "\n",
    "# Set paths\n",
    "metadata_file = r'new_metadata.csv'\n",
    "audio_dir = r'dataset/ESC-50-master/audio/'\n",
    "\n",
    "# Load metadata\n",
    "metadata_df = pd.read_csv(metadata_file)\n",
    "#print(metadata_df)\n"
   ]
  },
  {
   "cell_type": "code",
   "execution_count": 20,
   "metadata": {},
   "outputs": [],
   "source": [
    "\n",
    "# Filter categories for audio classifier (e.g., Helicopter, Chainsaw, etc.)\n",
    "categories = ['helicopter', 'chainsaw', 'siren', 'car_horn', 'engine', 'train', 'church_bells', 'airplane', 'fireworks', 'hand_saw']\n",
    "filtered_df = metadata_df[metadata_df['category'].isin(categories)]\n",
    "\n",
    "# Define function to extract MFCC features from an audio file\n",
    "def extract_mfcc(file_path, n_mfcc=13, hop_length=512):\n",
    "    y, sr = librosa.load(file_path, sr=None)  # Load the audio file\n",
    "    mfcc = librosa.feature.mfcc(y=y, sr=sr, n_mfcc=n_mfcc, hop_length=hop_length)  # Extract MFCC\n",
    "    return mfcc\n",
    "\n"
   ]
  },
  {
   "cell_type": "code",
   "execution_count": 21,
   "metadata": {},
   "outputs": [],
   "source": [
    "\n",
    "# Preprocess the data\n",
    "X = []\n",
    "y = []\n",
    "\n",
    "# Iterate through the filtered dataset and extract features and labels\n",
    "for idx, row in filtered_df.iterrows():\n",
    "    file_path = os.path.join(audio_dir, row['category'], row['filename'])\n",
    "    if os.path.exists(file_path):\n",
    "        # Extract MFCC features\n",
    "        mfcc = extract_mfcc(file_path)\n",
    "        X.append(mfcc)\n",
    "        y.append(row['category'])\n"
   ]
  },
  {
   "cell_type": "code",
   "execution_count": 22,
   "metadata": {},
   "outputs": [],
   "source": [
    "\n",
    "# Convert to numpy arrays\n",
    "X = np.array([np.mean(mfcc, axis=1) for mfcc in X])  # Take mean across time axis\n",
    "y = np.array([categories.index(category) for category in y])  # Convert categories to integers\n"
   ]
  },
  {
   "cell_type": "code",
   "execution_count": 23,
   "metadata": {},
   "outputs": [
    {
     "name": "stdout",
     "output_type": "stream",
     "text": [
      "400\n",
      "[[-5.33568726e+02  1.82440979e+02 -2.11755466e+00  8.50080776e+00\n",
      "   1.55925977e+00  2.19778538e+00  4.15884644e-01 -1.93029857e+00\n",
      "   2.16634750e+00 -3.02898854e-01 -3.64740640e-02  1.15669765e-01\n",
      "   1.23329926e+00]\n",
      " [-4.64291473e+02  1.30576950e+02  2.19855175e+01  8.46765041e+00\n",
      "   1.70591819e+00  5.93445957e-01  1.91420221e+00 -5.75630784e-01\n",
      "   1.35183668e+00  9.64682817e-01 -1.93961442e-01 -1.39149457e-01\n",
      "   2.82033682e-01]\n",
      " [-4.71927429e+02  1.39217651e+02  3.14949512e+01 -5.44543791e+00\n",
      "  -2.99933863e+00  6.42351866e+00  5.36778402e+00  6.01289213e-01\n",
      "  -8.07166815e-01  9.07666206e-01  1.41873360e+00  2.75453091e-01\n",
      "   6.33128107e-01]\n",
      " [-4.84623993e+02  1.37978775e+02  5.44633675e+01  5.36038971e+00\n",
      "  -2.46818423e+00  3.53266382e+00  6.00749302e+00  3.21424437e+00\n",
      "  -6.51149094e-01 -1.86527562e+00 -1.05244672e+00  1.25521988e-01\n",
      "   9.79418814e-01]\n",
      " [-1.27490707e+02  1.66818558e+02 -6.71186981e+01  4.19572296e+01\n",
      "  -3.54565392e+01  1.53109193e+00 -1.60132408e+01 -8.66732311e+00\n",
      "  -4.24196863e+00 -3.90562367e+00 -1.57990158e+00  1.69085515e+00\n",
      "  -2.47859430e+00]]\n"
     ]
    }
   ],
   "source": [
    "#print(len(X))  # Should show the number of sequences\n",
    "#print(X[:5])    # Print the first 5 sequences (or inspect a few elements)\n"
   ]
  },
  {
   "cell_type": "code",
   "execution_count": 24,
   "metadata": {},
   "outputs": [],
   "source": [
    "\n",
    "# Pad sequences to have the same length\n",
    "X = tf.keras.preprocessing.sequence.pad_sequences(X, padding='post')\n"
   ]
  },
  {
   "cell_type": "code",
   "execution_count": 27,
   "metadata": {},
   "outputs": [],
   "source": [
    "\n",
    "# Split the data into training and validation sets\n",
    "X_train, X_val, y_train, y_val = train_test_split(X, y, test_size=0.2, random_state=42)\n",
    "\n",
    "# Normalize data\n",
    "X_train = X_train.astype('float32') / np.max(X_train)\n",
    "X_val = X_val.astype('float32') / np.max(X_val)\n",
    "\n",
    "# Convert labels to categorical (one-hot encoding)\n",
    "y_train = tf.keras.utils.to_categorical(y_train, num_classes=len(categories))\n",
    "y_val = tf.keras.utils.to_categorical(y_val, num_classes=len(categories))\n",
    "# Reshape X_train to (num_samples, num_features, 1) to make it compatible with 1D CNN\n",
    "X_train = X_train.reshape((X_train.shape[0], X_train.shape[1], 1))\n",
    "\n"
   ]
  },
  {
   "cell_type": "code",
   "execution_count": 43,
   "metadata": {},
   "outputs": [],
   "source": [
    "model = tf.keras.Sequential([\n",
    "    tf.keras.layers.InputLayer(input_shape=(X_train.shape[1], X_train.shape[2])),\n",
    "    tf.keras.layers.Conv1D(64, 3, activation='relu', padding='same'),\n",
    "    tf.keras.layers.MaxPooling1D(pool_size=2),\n",
    "    tf.keras.layers.Conv1D(128, 3, activation='relu', padding='same'),\n",
    "    tf.keras.layers.MaxPooling1D(pool_size=2),\n",
    "    tf.keras.layers.Conv1D(256, 3, activation='relu', padding='same'),\n",
    "    tf.keras.layers.MaxPooling1D(pool_size=2),\n",
    "    tf.keras.layers.Flatten(),\n",
    "    tf.keras.layers.Dense(256, activation='relu'),\n",
    "    tf.keras.layers.Dropout(0.7),\n",
    "    tf.keras.layers.Dense(len(categories), activation='softmax')\n",
    "])\n"
   ]
  },
  {
   "cell_type": "code",
   "execution_count": 47,
   "metadata": {},
   "outputs": [],
   "source": [
    "optimizer = tf.keras.optimizers.Adam(learning_rate=0.001)\n",
    "model.compile(optimizer=optimizer, loss='sparse_categorical_crossentropy', metrics=['accuracy'])\n",
    "\n",
    "# Compile the model\n",
    "model.compile(optimizer='adam', loss='categorical_crossentropy', metrics=['accuracy'])\n"
   ]
  },
  {
   "cell_type": "code",
   "execution_count": 48,
   "metadata": {},
   "outputs": [
    {
     "name": "stdout",
     "output_type": "stream",
     "text": [
      "Epoch 1/30\n",
      "\u001b[1m10/10\u001b[0m \u001b[32m━━━━━━━━━━━━━━━━━━━━\u001b[0m\u001b[37m\u001b[0m \u001b[1m1s\u001b[0m 28ms/step - accuracy: 0.0918 - loss: 2.3020 - val_accuracy: 0.0875 - val_loss: 2.2952\n",
      "Epoch 2/30\n",
      "\u001b[1m10/10\u001b[0m \u001b[32m━━━━━━━━━━━━━━━━━━━━\u001b[0m\u001b[37m\u001b[0m \u001b[1m0s\u001b[0m 10ms/step - accuracy: 0.1603 - loss: 2.2680 - val_accuracy: 0.0875 - val_loss: 2.2766\n",
      "Epoch 3/30\n",
      "\u001b[1m10/10\u001b[0m \u001b[32m━━━━━━━━━━━━━━━━━━━━\u001b[0m\u001b[37m\u001b[0m \u001b[1m0s\u001b[0m 11ms/step - accuracy: 0.1746 - loss: 2.2423 - val_accuracy: 0.1250 - val_loss: 2.2332\n",
      "Epoch 4/30\n",
      "\u001b[1m10/10\u001b[0m \u001b[32m━━━━━━━━━━━━━━━━━━━━\u001b[0m\u001b[37m\u001b[0m \u001b[1m0s\u001b[0m 10ms/step - accuracy: 0.2135 - loss: 2.1789 - val_accuracy: 0.1250 - val_loss: 2.1703\n",
      "Epoch 5/30\n",
      "\u001b[1m10/10\u001b[0m \u001b[32m━━━━━━━━━━━━━━━━━━━━\u001b[0m\u001b[37m\u001b[0m \u001b[1m0s\u001b[0m 10ms/step - accuracy: 0.2172 - loss: 2.0919 - val_accuracy: 0.1625 - val_loss: 2.0842\n",
      "Epoch 6/30\n",
      "\u001b[1m10/10\u001b[0m \u001b[32m━━━━━━━━━━━━━━━━━━━━\u001b[0m\u001b[37m\u001b[0m \u001b[1m0s\u001b[0m 10ms/step - accuracy: 0.2761 - loss: 2.0634 - val_accuracy: 0.1625 - val_loss: 2.0255\n",
      "Epoch 7/30\n",
      "\u001b[1m10/10\u001b[0m \u001b[32m━━━━━━━━━━━━━━━━━━━━\u001b[0m\u001b[37m\u001b[0m \u001b[1m0s\u001b[0m 10ms/step - accuracy: 0.2795 - loss: 1.9951 - val_accuracy: 0.2375 - val_loss: 1.9095\n",
      "Epoch 8/30\n",
      "\u001b[1m10/10\u001b[0m \u001b[32m━━━━━━━━━━━━━━━━━━━━\u001b[0m\u001b[37m\u001b[0m \u001b[1m0s\u001b[0m 9ms/step - accuracy: 0.3549 - loss: 1.8420 - val_accuracy: 0.4000 - val_loss: 1.7882\n",
      "Epoch 9/30\n",
      "\u001b[1m10/10\u001b[0m \u001b[32m━━━━━━━━━━━━━━━━━━━━\u001b[0m\u001b[37m\u001b[0m \u001b[1m0s\u001b[0m 10ms/step - accuracy: 0.3051 - loss: 1.8508 - val_accuracy: 0.3750 - val_loss: 1.7009\n",
      "Epoch 10/30\n",
      "\u001b[1m10/10\u001b[0m \u001b[32m━━━━━━━━━━━━━━━━━━━━\u001b[0m\u001b[37m\u001b[0m \u001b[1m0s\u001b[0m 10ms/step - accuracy: 0.3308 - loss: 1.7344 - val_accuracy: 0.4500 - val_loss: 1.6081\n",
      "Epoch 11/30\n",
      "\u001b[1m10/10\u001b[0m \u001b[32m━━━━━━━━━━━━━━━━━━━━\u001b[0m\u001b[37m\u001b[0m \u001b[1m0s\u001b[0m 10ms/step - accuracy: 0.3769 - loss: 1.5928 - val_accuracy: 0.5000 - val_loss: 1.5783\n",
      "Epoch 12/30\n",
      "\u001b[1m10/10\u001b[0m \u001b[32m━━━━━━━━━━━━━━━━━━━━\u001b[0m\u001b[37m\u001b[0m \u001b[1m0s\u001b[0m 10ms/step - accuracy: 0.3649 - loss: 1.6785 - val_accuracy: 0.4125 - val_loss: 1.5640\n",
      "Epoch 13/30\n",
      "\u001b[1m10/10\u001b[0m \u001b[32m━━━━━━━━━━━━━━━━━━━━\u001b[0m\u001b[37m\u001b[0m \u001b[1m0s\u001b[0m 9ms/step - accuracy: 0.4204 - loss: 1.5109 - val_accuracy: 0.5250 - val_loss: 1.4955\n",
      "Epoch 14/30\n",
      "\u001b[1m10/10\u001b[0m \u001b[32m━━━━━━━━━━━━━━━━━━━━\u001b[0m\u001b[37m\u001b[0m \u001b[1m0s\u001b[0m 10ms/step - accuracy: 0.4298 - loss: 1.5569 - val_accuracy: 0.5375 - val_loss: 1.4706\n",
      "Epoch 15/30\n",
      "\u001b[1m10/10\u001b[0m \u001b[32m━━━━━━━━━━━━━━━━━━━━\u001b[0m\u001b[37m\u001b[0m \u001b[1m0s\u001b[0m 9ms/step - accuracy: 0.4173 - loss: 1.5528 - val_accuracy: 0.5000 - val_loss: 1.5106\n",
      "Epoch 16/30\n",
      "\u001b[1m10/10\u001b[0m \u001b[32m━━━━━━━━━━━━━━━━━━━━\u001b[0m\u001b[37m\u001b[0m \u001b[1m0s\u001b[0m 10ms/step - accuracy: 0.4134 - loss: 1.5704 - val_accuracy: 0.4500 - val_loss: 1.4489\n",
      "Epoch 17/30\n",
      "\u001b[1m10/10\u001b[0m \u001b[32m━━━━━━━━━━━━━━━━━━━━\u001b[0m\u001b[37m\u001b[0m \u001b[1m0s\u001b[0m 9ms/step - accuracy: 0.4016 - loss: 1.5237 - val_accuracy: 0.4750 - val_loss: 1.3978\n",
      "Epoch 18/30\n",
      "\u001b[1m10/10\u001b[0m \u001b[32m━━━━━━━━━━━━━━━━━━━━\u001b[0m\u001b[37m\u001b[0m \u001b[1m0s\u001b[0m 9ms/step - accuracy: 0.4507 - loss: 1.4836 - val_accuracy: 0.5500 - val_loss: 1.4523\n",
      "Epoch 19/30\n",
      "\u001b[1m10/10\u001b[0m \u001b[32m━━━━━━━━━━━━━━━━━━━━\u001b[0m\u001b[37m\u001b[0m \u001b[1m0s\u001b[0m 10ms/step - accuracy: 0.4290 - loss: 1.5149 - val_accuracy: 0.5250 - val_loss: 1.3585\n",
      "Epoch 20/30\n",
      "\u001b[1m10/10\u001b[0m \u001b[32m━━━━━━━━━━━━━━━━━━━━\u001b[0m\u001b[37m\u001b[0m \u001b[1m0s\u001b[0m 10ms/step - accuracy: 0.5170 - loss: 1.3688 - val_accuracy: 0.5500 - val_loss: 1.4416\n",
      "Epoch 21/30\n",
      "\u001b[1m10/10\u001b[0m \u001b[32m━━━━━━━━━━━━━━━━━━━━\u001b[0m\u001b[37m\u001b[0m \u001b[1m0s\u001b[0m 10ms/step - accuracy: 0.4660 - loss: 1.3695 - val_accuracy: 0.5375 - val_loss: 1.4239\n",
      "Epoch 22/30\n",
      "\u001b[1m10/10\u001b[0m \u001b[32m━━━━━━━━━━━━━━━━━━━━\u001b[0m\u001b[37m\u001b[0m \u001b[1m0s\u001b[0m 10ms/step - accuracy: 0.4581 - loss: 1.3359 - val_accuracy: 0.5375 - val_loss: 1.3324\n",
      "Epoch 23/30\n",
      "\u001b[1m10/10\u001b[0m \u001b[32m━━━━━━━━━━━━━━━━━━━━\u001b[0m\u001b[37m\u001b[0m \u001b[1m0s\u001b[0m 9ms/step - accuracy: 0.5037 - loss: 1.3824 - val_accuracy: 0.5125 - val_loss: 1.3774\n",
      "Epoch 24/30\n",
      "\u001b[1m10/10\u001b[0m \u001b[32m━━━━━━━━━━━━━━━━━━━━\u001b[0m\u001b[37m\u001b[0m \u001b[1m0s\u001b[0m 9ms/step - accuracy: 0.4537 - loss: 1.4298 - val_accuracy: 0.5500 - val_loss: 1.3331\n",
      "Epoch 25/30\n",
      "\u001b[1m10/10\u001b[0m \u001b[32m━━━━━━━━━━━━━━━━━━━━\u001b[0m\u001b[37m\u001b[0m \u001b[1m0s\u001b[0m 10ms/step - accuracy: 0.4708 - loss: 1.4442 - val_accuracy: 0.5250 - val_loss: 1.3256\n",
      "Epoch 26/30\n",
      "\u001b[1m10/10\u001b[0m \u001b[32m━━━━━━━━━━━━━━━━━━━━\u001b[0m\u001b[37m\u001b[0m \u001b[1m0s\u001b[0m 10ms/step - accuracy: 0.5233 - loss: 1.3080 - val_accuracy: 0.5500 - val_loss: 1.3340\n",
      "Epoch 27/30\n",
      "\u001b[1m10/10\u001b[0m \u001b[32m━━━━━━━━━━━━━━━━━━━━\u001b[0m\u001b[37m\u001b[0m \u001b[1m0s\u001b[0m 10ms/step - accuracy: 0.5098 - loss: 1.3068 - val_accuracy: 0.4500 - val_loss: 1.3911\n",
      "Epoch 28/30\n",
      "\u001b[1m10/10\u001b[0m \u001b[32m━━━━━━━━━━━━━━━━━━━━\u001b[0m\u001b[37m\u001b[0m \u001b[1m0s\u001b[0m 10ms/step - accuracy: 0.5064 - loss: 1.3251 - val_accuracy: 0.5250 - val_loss: 1.2927\n",
      "Epoch 29/30\n",
      "\u001b[1m10/10\u001b[0m \u001b[32m━━━━━━━━━━━━━━━━━━━━\u001b[0m\u001b[37m\u001b[0m \u001b[1m0s\u001b[0m 9ms/step - accuracy: 0.5695 - loss: 1.1957 - val_accuracy: 0.4875 - val_loss: 1.4013\n",
      "Epoch 30/30\n",
      "\u001b[1m10/10\u001b[0m \u001b[32m━━━━━━━━━━━━━━━━━━━━\u001b[0m\u001b[37m\u001b[0m \u001b[1m0s\u001b[0m 10ms/step - accuracy: 0.5416 - loss: 1.1921 - val_accuracy: 0.5250 - val_loss: 1.3682\n",
      "\u001b[1m3/3\u001b[0m \u001b[32m━━━━━━━━━━━━━━━━━━━━\u001b[0m\u001b[37m\u001b[0m \u001b[1m0s\u001b[0m 9ms/step - accuracy: 0.5477 - loss: 1.2666 \n",
      "Validation Loss: 1.292705774307251\n",
      "Validation Accuracy: 0.5249999761581421\n"
     ]
    }
   ],
   "source": [
    "\n",
    "from tensorflow.keras.callbacks import EarlyStopping\n",
    "early_stopping = EarlyStopping(monitor='val_loss', patience=3, restore_best_weights=True)\n",
    "history = model.fit(X_train, y_train, validation_data=(X_val, y_val), epochs=30, batch_size=32, callbacks=[early_stopping])\n",
    "\n",
    "\n",
    "# Step 6: Evaluate the Model\n",
    "loss, accuracy = model.evaluate(X_val, y_val)\n",
    "print(f\"Validation Loss: {loss}\")\n",
    "print(f\"Validation Accuracy: {accuracy}\")\n"
   ]
  },
  {
   "cell_type": "code",
   "execution_count": 53,
   "metadata": {},
   "outputs": [
    {
     "name": "stderr",
     "output_type": "stream",
     "text": [
      "WARNING:absl:You are saving your model as an HDF5 file via `model.save()` or `keras.saving.save_model(model)`. This file format is considered legacy. We recommend using instead the native Keras format, e.g. `model.save('my_model.keras')` or `keras.saving.save_model(model, 'my_model.keras')`. \n"
     ]
    },
    {
     "data": {
      "image/png": "[encoded data removed]",
      "text/plain": [
       "<Figure size 640x480 with 1 Axes>"
      ]
     },
     "metadata": {},
     "output_type": "display_data"
    }
   ],
   "source": [
    "\n",
    "# Step 7: Save the Model\n",
    "model.save('audio_classifier_model.h5')\n",
    "\n",
    "# Optionally, visualize training history\n",
    "plt.plot(history.history['accuracy'], label='Train Accuracy')\n",
    "plt.plot(history.history['val_accuracy'], label='Val Accuracy')\n",
    "plt.title('Model Accuracy')\n",
    "plt.xlabel('Epochs')\n",
    "plt.ylabel('Accuracy')\n",
    "plt.legend()\n",
    "plt.show()\n"
   ]
  }
 ],
 "metadata": {
  "kernelspec": {
   "display_name": "env",
   "language": "python",
   "name": "python3"
  },
  "language_info": {
   "codemirror_mode": {
    "name": "ipython",
    "version": 3
   },
   "file_extension": ".py",
   "mimetype": "text/x-python",
   "name": "python",
   "nbconvert_exporter": "python",
   "pygments_lexer": "ipython3",
   "version": "3.11.9"
  }
 },
 "nbformat": 4,
 "nbformat_minor": 2
}
